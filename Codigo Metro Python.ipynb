{
 "cells": [
  {
   "cell_type": "code",
   "execution_count": 11,
   "id": "f5352e47",
   "metadata": {},
   "outputs": [],
   "source": [
    "import pandas as pd\n",
    "DatosV = pd.read_excel(\"C:/Users/Felipe Bañol/Documents/GitHub/Metro2.0/DatosV.xlsx\")\n",
    "DatosV[\"EDAD\"] = pd.to_numeric(DatosV[\"EDAD\"], errors=\"coerce\")\n",
    "# Crear columna indicador\n",
    "DatosV[\"Treat\"] = DatosV[\"ESTACION\"].isin([\"ACEVEDO\", \"SAN ANTONIO\", \"SAN JAVIER\"]).astype(int)\n",
    "def marcar_time2022(df):\n",
    "    periodos = [\n",
    "        \"2022-1\", \"2022-2\", \"2022-3\", \"2022-4\",\n",
    "        \"2023-1\", \"2023-2\", \"2023-3\", \"2023-4\",\n",
    "        \"2024-1\", \"2024-2\", \"2024-3\", \"2024-4\"\n",
    "    ]\n",
    "    df[\"Time2022\"] = df[\"AñoT\"].isin(periodos).astype(int)\n",
    "    return df"
   ]
  },
  {
   "cell_type": "code",
   "execution_count": 5,
   "id": "0d9333d3",
   "metadata": {},
   "outputs": [
    {
     "name": "stdout",
     "output_type": "stream",
     "text": [
      "Masculino: 577\n",
      "Femenino: 459\n"
     ]
    }
   ],
   "source": [
    "\n",
    "\n",
    "\n",
    "# Filtrar por género\n",
    "DatosM = DatosV[DatosV[\"GENERO\"] == \"M\"]\n",
    "DatosF = DatosV[DatosV[\"GENERO\"] == \"F\"]\n",
    "print(\"Masculino:\", len(DatosM))\n",
    "print(\"Femenino:\", len(DatosF))"
   ]
  },
  {
   "cell_type": "code",
   "execution_count": 6,
   "id": "1621e153",
   "metadata": {},
   "outputs": [
    {
     "name": "stdout",
     "output_type": "stream",
     "text": [
      "Masculino recientes: 395\n",
      "Femenino recientes: 255\n"
     ]
    }
   ],
   "source": [
    "DatosM = DatosM[DatosM[\"AñoT\"] >= \"2012-1\"]\n",
    "DatosF = DatosF[DatosF[\"AñoT\"] >= \"2012-1\"]\n",
    "\n",
    "# Verificar cantidad de registros\n",
    "print(\"Masculino recientes:\", len(DatosM))\n",
    "print(\"Femenino recientes:\", len(DatosF))"
   ]
  },
  {
   "cell_type": "code",
   "execution_count": 7,
   "id": "22a93734",
   "metadata": {},
   "outputs": [
    {
     "name": "stdout",
     "output_type": "stream",
     "text": [
      "  ESTACION    AñoT  conteo\n",
      "0  ACEVEDO  2012-1       0\n",
      "1  ACEVEDO  2012-2       1\n",
      "2  ACEVEDO  2012-3       1\n",
      "3  ACEVEDO  2012-4       0\n",
      "4  ACEVEDO  2013-1       0\n"
     ]
    }
   ],
   "source": [
    "\n",
    "import itertools\n",
    "\n",
    "\n",
    "# 1️⃣ Crear lista de trimestres desde 2012-1 hasta 2023-4 para masculino\n",
    "años = range(2012, 2024)\n",
    "trimestres = [1, 2, 3, 4]\n",
    "todos_trimestres = [f\"{año}-{t}\" for año, t in itertools.product(años, trimestres)]\n",
    "\n",
    "# 2️⃣ Obtener lista de estaciones únicas (por ejemplo de DatosM)\n",
    "estaciones = DatosM[\"ESTACION\"].unique()\n",
    "\n",
    "# 3️⃣ Crear DataFrame con todas las combinaciones de Estación x AñoT\n",
    "combinaciones = pd.MultiIndex.from_product([estaciones, todos_trimestres], names=[\"ESTACION\", \"AñoT\"]).to_frame(index=False)\n",
    "\n",
    "# 4️⃣ Hacer conteo de ocurrencias en DatosM\n",
    "conteo = DatosM.groupby([\"ESTACION\", \"AñoT\"]).size().reset_index(name=\"conteo\")\n",
    "\n",
    "# 5️⃣ Hacer merge con todas las combinaciones, rellenando NaN con 0\n",
    "DatosM_conteo = combinaciones.merge(conteo, on=[\"ESTACION\", \"AñoT\"], how=\"left\").fillna(0)\n",
    "\n",
    "# 6️⃣ Asegurarse que 'conteo' sea entero\n",
    "DatosM_conteo[\"conteo\"] = DatosM_conteo[\"conteo\"].astype(int)\n",
    "\n",
    "# Ver los primeros registros\n",
    "print(DatosM_conteo.head())\n"
   ]
  },
  {
   "cell_type": "code",
   "execution_count": 8,
   "id": "d9b39e88",
   "metadata": {},
   "outputs": [
    {
     "name": "stdout",
     "output_type": "stream",
     "text": [
      "  ESTACION    AñoT  conteo\n",
      "0  ACEVEDO  2012-1       0\n",
      "1  ACEVEDO  2012-2       1\n",
      "2  ACEVEDO  2012-3       1\n",
      "3  ACEVEDO  2012-4       0\n",
      "4  ACEVEDO  2013-1       0\n"
     ]
    }
   ],
   "source": [
    "# 1️⃣ Crear lista de trimestres desde 2012-1 hasta 2023-4 para femenino\n",
    "años = range(2012, 2024)\n",
    "trimestres = [1, 2, 3, 4]\n",
    "todos_trimestres = [f\"{año}-{t}\" for año, t in itertools.product(años, trimestres)]\n",
    "\n",
    "# 2️⃣ Obtener lista de estaciones únicas (por ejemplo de DatosM)\n",
    "estaciones_f = DatosF[\"ESTACION\"].unique()\n",
    "\n",
    "# 3️⃣ Crear DataFrame con todas las combinaciones de Estación x AñoT\n",
    "combinaciones_f = pd.MultiIndex.from_product([estaciones, todos_trimestres], names=[\"ESTACION\", \"AñoT\"]).to_frame(index=False)\n",
    "\n",
    "# 4️⃣ Hacer conteo de ocurrencias en DatosM\n",
    "conteo_f = DatosF.groupby([\"ESTACION\", \"AñoT\"]).size().reset_index(name=\"conteo\")\n",
    "\n",
    "# 5️⃣ Hacer merge con todas las combinaciones, rellenando NaN con 0\n",
    "DatosF_conteo = combinaciones_f.merge(conteo, on=[\"ESTACION\", \"AñoT\"], how=\"left\").fillna(0)\n",
    " \n",
    "# 6️⃣ Asegurarse que 'conteo' sea entero\n",
    "DatosF_conteo[\"conteo\"] = DatosF_conteo[\"conteo\"].astype(int)\n",
    "\n",
    "# Ver los primeros registros\n",
    "print(DatosF_conteo.head())"
   ]
  },
  {
   "cell_type": "code",
   "execution_count": 9,
   "id": "b863b7ee",
   "metadata": {},
   "outputs": [
    {
     "name": "stdout",
     "output_type": "stream",
     "text": [
      "  ESTACION    AñoT  conteo\n",
      "0  ACEVEDO  2012-1       0\n",
      "1  ACEVEDO  2012-2       2\n",
      "2  ACEVEDO  2012-3       1\n",
      "3  ACEVEDO  2012-4       0\n",
      "4  ACEVEDO  2013-1       0\n"
     ]
    }
   ],
   "source": [
    "Datos_total = pd.concat([DatosM, DatosF], ignore_index=True)\n",
    "\n",
    "# 2️⃣ Lista de trimestres desde 2012-1 hasta 2023-4\n",
    "años = range(2012, 2024)\n",
    "trimestres = [1, 2, 3, 4]\n",
    "todos_trimestres = [f\"{año}-{t}\" for año, t in itertools.product(años, trimestres)]\n",
    "\n",
    "# 3️⃣ Lista de estaciones únicas en la base combinada\n",
    "estaciones_total = Datos_total[\"ESTACION\"].unique()\n",
    "\n",
    "# 4️⃣ Crear DataFrame con todas las combinaciones de Estación x AñoT\n",
    "combinaciones_total = pd.MultiIndex.from_product([estaciones_total, todos_trimestres], names=[\"ESTACION\", \"AñoT\"]).to_frame(index=False)\n",
    "\n",
    "# 5️⃣ Hacer conteo de ocurrencias en la base combinada\n",
    "conteo_total = Datos_total.groupby([\"ESTACION\", \"AñoT\"]).size().reset_index(name=\"conteo\")\n",
    "\n",
    "# 6️⃣ Merge con todas las combinaciones, rellenando NaN con 0\n",
    "Datos_total_conteo = combinaciones_total.merge(conteo_total, on=[\"ESTACION\", \"AñoT\"], how=\"left\").fillna(0)\n",
    "\n",
    "# 7️⃣ Asegurarse que 'conteo' sea entero\n",
    "Datos_total_conteo[\"conteo\"] = Datos_total_conteo[\"conteo\"].astype(int)\n",
    "\n",
    "# Ver los primeros registros\n",
    "print(Datos_total_conteo.head())"
   ]
  },
  {
   "cell_type": "code",
   "execution_count": 10,
   "id": "59a5837f",
   "metadata": {},
   "outputs": [
    {
     "name": "stdout",
     "output_type": "stream",
     "text": [
      "DatosM_no_joven\n",
      "  ESTACION    AñoT  conteo\n",
      "0  ACEVEDO  2012-1       0\n",
      "1  ACEVEDO  2012-2       0\n",
      "2  ACEVEDO  2012-3       0\n",
      "3  ACEVEDO  2012-4       0\n",
      "4  ACEVEDO  2013-1       0\n",
      "Datos_total_joven\n",
      "        ESTACION    AñoT  conteo\n",
      "0  12 DE octubre  2012-1       0\n",
      "1  12 DE octubre  2012-2       0\n",
      "2  12 DE octubre  2012-3       0\n",
      "3  12 DE octubre  2012-4       0\n",
      "4  12 DE octubre  2013-1       0\n"
     ]
    }
   ],
   "source": [
    "\n",
    "DatosV = DatosV[DatosV[\"AñoT\"] >= \"2012-1\"]\n",
    "\n",
    "# Lista de trimestres\n",
    "años = range(2012, 2024)\n",
    "trimestres = [1, 2, 3, 4]\n",
    "todos_trimestres = [f\"{año}-{t}\" for año, t in itertools.product(años, trimestres)]\n",
    "\n",
    "def generar_conteo(df, nombre):\n",
    "    \"\"\"Genera DataFrame de conteo por Estación y AñoT incluyendo trimestres vacíos\"\"\"\n",
    "    estaciones = df[\"ESTACION\"].unique()\n",
    "    combinaciones = pd.MultiIndex.from_product([estaciones, todos_trimestres], names=[\"ESTACION\", \"AñoT\"]).to_frame(index=False)\n",
    "    conteo = df.groupby([\"ESTACION\", \"AñoT\"]).size().reset_index(name=\"conteo\")\n",
    "    resultado = combinaciones.merge(conteo, on=[\"ESTACION\", \"AñoT\"], how=\"left\").fillna(0)\n",
    "    resultado[\"conteo\"] = resultado[\"conteo\"].astype(int)\n",
    "    return resultado\n",
    "\n",
    "# -----------------------------\n",
    "# NO JOVENES (EDAD > 28)\n",
    "# -----------------------------\n",
    "Datos_no_joven = DatosV[DatosV[\"EDAD\"] > 28]\n",
    "\n",
    "DatosM_no_joven = generar_conteo(Datos_no_joven[Datos_no_joven[\"GENERO\"]==\"M\"], \"M_no_joven\")\n",
    "DatosF_no_joven = generar_conteo(Datos_no_joven[Datos_no_joven[\"GENERO\"]==\"F\"], \"F_no_joven\")\n",
    "Datos_total_no_joven = generar_conteo(Datos_no_joven, \"Total_no_joven\")\n",
    "\n",
    "# -----------------------------\n",
    "# JOVENES (EDAD <= 28)\n",
    "# -----------------------------\n",
    "Datos_joven = DatosV[DatosV[\"EDAD\"] <= 28]\n",
    "\n",
    "DatosM_joven = generar_conteo(Datos_joven[Datos_joven[\"GENERO\"]==\"M\"], \"M_joven\")\n",
    "DatosF_joven = generar_conteo(Datos_joven[Datos_joven[\"GENERO\"]==\"F\"], \"F_joven\")\n",
    "Datos_total_joven = generar_conteo(Datos_joven, \"Total_joven\")\n",
    "\n",
    "# -----------------------------\n",
    "# Ejemplo: ver primeras filas\n",
    "print(\"DatosM_no_joven\")\n",
    "print(DatosM_no_joven.head())\n",
    "\n",
    "print(\"Datos_total_joven\")\n",
    "print(Datos_total_joven.head())\n"
   ]
  },
  {
   "cell_type": "code",
   "execution_count": 12,
   "id": "c69fe630",
   "metadata": {},
   "outputs": [],
   "source": [
    "DatosM_conteo = marcar_time2022(DatosM_conteo)\n",
    "DatosF_conteo = marcar_time2022(DatosF_conteo)\n",
    "Datos_total_conteo = marcar_time2022(Datos_total_conteo)\n",
    "\n",
    "DatosM_no_joven = marcar_time2022(DatosM_no_joven)\n",
    "DatosF_no_joven = marcar_time2022(DatosF_no_joven)\n",
    "Datos_total_no_joven = marcar_time2022(Datos_total_no_joven)\n",
    "\n",
    "DatosM_joven = marcar_time2022(DatosM_joven)\n",
    "DatosF_joven = marcar_time2022(DatosF_joven)\n",
    "Datos_total_joven = marcar_time2022(Datos_total_joven)\n"
   ]
  },
  {
   "cell_type": "code",
   "execution_count": 16,
   "id": "4b4e5d4b",
   "metadata": {},
   "outputs": [],
   "source": [
    "def agregar_variables(df):\n",
    "    # 1) Treat: estaciones tratadas\n",
    "    estaciones_tratadas = [\"ACEVEDO\", \"SAN ANTONIO\", \"SAN JAVIER\"]\n",
    "    df[\"Treat\"] = df[\"ESTACION\"].isin(estaciones_tratadas).astype(int)\n",
    "\n",
    "    # 2) Time2020: periodos desde 2020-2 hasta 2024-4\n",
    "    periodos_2020 = [\n",
    "        \"2020-2\", \"2020-3\", \"2020-4\",\n",
    "        \"2021-1\", \"2021-2\", \"2021-3\", \"2021-4\",\n",
    "        \"2022-1\", \"2022-2\", \"2022-3\", \"2022-4\",\n",
    "        \"2023-1\", \"2023-2\", \"2023-3\", \"2023-4\",\n",
    "        \"2024-1\", \"2024-2\", \"2024-3\", \"2024-4\"\n",
    "    ]\n",
    "    df[\"Time2020\"] = df[\"AñoT\"].isin(periodos_2020).astype(int)\n",
    "\n",
    "    # 3) Time2022: periodos desde 2022-1 hasta 2024-4\n",
    "    periodos_2022 = [\n",
    "        \"2022-1\", \"2022-2\", \"2022-3\", \"2022-4\",\n",
    "        \"2023-1\", \"2023-2\", \"2023-3\", \"2023-4\",\n",
    "        \"2024-1\", \"2024-2\", \"2024-3\", \"2024-4\"\n",
    "    ]\n",
    "    df[\"Time2022\"] = df[\"AñoT\"].isin(periodos_2022).astype(int)\n",
    "\n",
    "    # 4) TimeT2020 = Treat * Time2020\n",
    "    df[\"TimeT2020\"] = df[\"Treat\"] * df[\"Time2020\"]\n",
    "\n",
    "    # 5) TimeT2022 = Treat * Time2022\n",
    "    df[\"TimeT2022\"] = df[\"Treat\"] * df[\"Time2022\"]\n",
    "\n",
    "    return df\n"
   ]
  },
  {
   "cell_type": "code",
   "execution_count": 17,
   "id": "21e8556d",
   "metadata": {},
   "outputs": [],
   "source": [
    "# Bases originales de conteo\n",
    "DatosM_conteo = agregar_variables(DatosM_conteo)\n",
    "DatosF_conteo = agregar_variables(DatosF_conteo)\n",
    "Datos_total_conteo = agregar_variables(Datos_total_conteo)\n",
    "\n",
    "# Bases no jóvenes\n",
    "DatosM_no_joven = agregar_variables(DatosM_no_joven)\n",
    "DatosF_no_joven = agregar_variables(DatosF_no_joven)\n",
    "Datos_total_no_joven = agregar_variables(Datos_total_no_joven)\n",
    "\n",
    "# Bases jóvenes\n",
    "DatosM_joven = agregar_variables(DatosM_joven)\n",
    "DatosF_joven = agregar_variables(DatosF_joven)\n",
    "Datos_total_joven = agregar_variables(Datos_total_joven)\n"
   ]
  }
 ],
 "metadata": {
  "kernelspec": {
   "display_name": "Python 3",
   "language": "python",
   "name": "python3"
  },
  "language_info": {
   "codemirror_mode": {
    "name": "ipython",
    "version": 3
   },
   "file_extension": ".py",
   "mimetype": "text/x-python",
   "name": "python",
   "nbconvert_exporter": "python",
   "pygments_lexer": "ipython3",
   "version": "3.11.1"
  }
 },
 "nbformat": 4,
 "nbformat_minor": 5
}
