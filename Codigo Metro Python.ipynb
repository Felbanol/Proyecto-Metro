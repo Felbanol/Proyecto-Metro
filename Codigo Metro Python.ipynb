{
 "cells": [
  {
   "cell_type": "code",
   "execution_count": 5,
   "id": "57b9302e",
   "metadata": {},
   "outputs": [
    {
     "name": "stdout",
     "output_type": "stream",
     "text": [
      "Requirement already satisfied: pandas in c:\\users\\felipe bañol\\documents\\github\\metro\\.venv\\lib\\site-packages (2.3.1)\n",
      "Requirement already satisfied: openpyxl in c:\\users\\felipe bañol\\documents\\github\\metro\\.venv\\lib\\site-packages (3.1.5)\n",
      "Requirement already satisfied: numpy>=1.23.2 in c:\\users\\felipe bañol\\documents\\github\\metro\\.venv\\lib\\site-packages (from pandas) (2.3.2)\n",
      "Requirement already satisfied: python-dateutil>=2.8.2 in c:\\users\\felipe bañol\\documents\\github\\metro\\.venv\\lib\\site-packages (from pandas) (2.9.0.post0)\n",
      "Requirement already satisfied: pytz>=2020.1 in c:\\users\\felipe bañol\\documents\\github\\metro\\.venv\\lib\\site-packages (from pandas) (2025.2)\n",
      "Requirement already satisfied: tzdata>=2022.7 in c:\\users\\felipe bañol\\documents\\github\\metro\\.venv\\lib\\site-packages (from pandas) (2025.2)\n",
      "Requirement already satisfied: et-xmlfile in c:\\users\\felipe bañol\\documents\\github\\metro\\.venv\\lib\\site-packages (from openpyxl) (2.0.0)\n",
      "Requirement already satisfied: six>=1.5 in c:\\users\\felipe bañol\\documents\\github\\metro\\.venv\\lib\\site-packages (from python-dateutil>=2.8.2->pandas) (1.17.0)\n",
      "Note: you may need to restart the kernel to use updated packages.\n"
     ]
    }
   ],
   "source": [
    "\n",
    "\n",
    "pip install pandas openpyxl"
   ]
  },
  {
   "cell_type": "code",
   "execution_count": 23,
   "id": "f5352e47",
   "metadata": {},
   "outputs": [],
   "source": [
    "import pandas as pd\n",
    "DatosV = pd.read_excel(\"C:/Users/Felipe Bañol/Documents/GitHub/Metro/DatosV.xlsx\")\n",
    "DatosV[\"EDAD\"] = pd.to_numeric(DatosV[\"EDAD\"], errors=\"coerce\")"
   ]
  },
  {
   "cell_type": "code",
   "execution_count": null,
   "id": "0d9333d3",
   "metadata": {},
   "outputs": [
    {
     "name": "stdout",
     "output_type": "stream",
     "text": [
      "Masculino: 577\n",
      "Femenino: 459\n"
     ]
    }
   ],
   "source": [
    "\n",
    "\n",
    "\n",
    "# Filtrar por género\n",
    "DatosM = DatosV[DatosV[\"GENERO\"] == \"M\"]\n",
    "DatosF = DatosV[DatosV[\"GENERO\"] == \"F\"]\n",
    "print(\"Masculino:\", len(DatosM))\n",
    "print(\"Femenino:\", len(DatosF))"
   ]
  },
  {
   "cell_type": "code",
   "execution_count": 14,
   "id": "1621e153",
   "metadata": {},
   "outputs": [
    {
     "name": "stdout",
     "output_type": "stream",
     "text": [
      "Masculino recientes: 395\n",
      "Femenino recientes: 255\n"
     ]
    }
   ],
   "source": [
    "DatosM = DatosM[DatosM[\"AñoT\"] >= \"2012-1\"]\n",
    "DatosF = DatosF[DatosF[\"AñoT\"] >= \"2012-1\"]\n",
    "\n",
    "# Verificar cantidad de registros\n",
    "print(\"Masculino recientes:\", len(DatosM))\n",
    "print(\"Femenino recientes:\", len(DatosF))"
   ]
  },
  {
   "cell_type": "code",
   "execution_count": null,
   "id": "22a93734",
   "metadata": {},
   "outputs": [
    {
     "name": "stdout",
     "output_type": "stream",
     "text": [
      "  ESTACION    AñoT  conteo\n",
      "0  ACEVEDO  2012-1       0\n",
      "1  ACEVEDO  2012-2       1\n",
      "2  ACEVEDO  2012-3       1\n",
      "3  ACEVEDO  2012-4       0\n",
      "4  ACEVEDO  2013-1       0\n"
     ]
    }
   ],
   "source": [
    "\n",
    "import itertools\n",
    "\n",
    "\n",
    "# 1️⃣ Crear lista de trimestres desde 2012-1 hasta 2023-4 para masculino\n",
    "años = range(2012, 2024)\n",
    "trimestres = [1, 2, 3, 4]\n",
    "todos_trimestres = [f\"{año}-{t}\" for año, t in itertools.product(años, trimestres)]\n",
    "\n",
    "# 2️⃣ Obtener lista de estaciones únicas (por ejemplo de DatosM)\n",
    "estaciones = DatosM[\"ESTACION\"].unique()\n",
    "\n",
    "# 3️⃣ Crear DataFrame con todas las combinaciones de Estación x AñoT\n",
    "combinaciones = pd.MultiIndex.from_product([estaciones, todos_trimestres], names=[\"ESTACION\", \"AñoT\"]).to_frame(index=False)\n",
    "\n",
    "# 4️⃣ Hacer conteo de ocurrencias en DatosM\n",
    "conteo = DatosM.groupby([\"ESTACION\", \"AñoT\"]).size().reset_index(name=\"conteo\")\n",
    "\n",
    "# 5️⃣ Hacer merge con todas las combinaciones, rellenando NaN con 0\n",
    "DatosM_conteo = combinaciones.merge(conteo, on=[\"ESTACION\", \"AñoT\"], how=\"left\").fillna(0)\n",
    "\n",
    "# 6️⃣ Asegurarse que 'conteo' sea entero\n",
    "DatosM_conteo[\"conteo\"] = DatosM_conteo[\"conteo\"].astype(int)\n",
    "\n",
    "# Ver los primeros registros\n",
    "print(DatosM_conteo.head())\n"
   ]
  },
  {
   "cell_type": "code",
   "execution_count": null,
   "id": "d9b39e88",
   "metadata": {},
   "outputs": [
    {
     "name": "stdout",
     "output_type": "stream",
     "text": [
      "  ESTACION    AñoT  conteo\n",
      "0  ACEVEDO  2012-1       0\n",
      "1  ACEVEDO  2012-2       1\n",
      "2  ACEVEDO  2012-3       1\n",
      "3  ACEVEDO  2012-4       0\n",
      "4  ACEVEDO  2013-1       0\n"
     ]
    }
   ],
   "source": [
    "# 1️⃣ Crear lista de trimestres desde 2012-1 hasta 2023-4 para femenino\n",
    "años = range(2012, 2024)\n",
    "trimestres = [1, 2, 3, 4]\n",
    "todos_trimestres = [f\"{año}-{t}\" for año, t in itertools.product(años, trimestres)]\n",
    "\n",
    "# 2️⃣ Obtener lista de estaciones únicas (por ejemplo de DatosM)\n",
    "estaciones_f = DatosF[\"ESTACION\"].unique()\n",
    "\n",
    "# 3️⃣ Crear DataFrame con todas las combinaciones de Estación x AñoT\n",
    "combinaciones_f = pd.MultiIndex.from_product([estaciones, todos_trimestres], names=[\"ESTACION\", \"AñoT\"]).to_frame(index=False)\n",
    "\n",
    "# 4️⃣ Hacer conteo de ocurrencias en DatosM\n",
    "conteo_f = DatosF.groupby([\"ESTACION\", \"AñoT\"]).size().reset_index(name=\"conteo\")\n",
    "\n",
    "# 5️⃣ Hacer merge con todas las combinaciones, rellenando NaN con 0\n",
    "DatosF_conteo = combinaciones_f.merge(conteo, on=[\"ESTACION\", \"AñoT\"], how=\"left\").fillna(0)\n",
    " \n",
    "# 6️⃣ Asegurarse que 'conteo' sea entero\n",
    "DatosF_conteo[\"conteo\"] = DatosF_conteo[\"conteo\"].astype(int)\n",
    "\n",
    "# Ver los primeros registros\n",
    "print(DatosF_conteo.head())"
   ]
  },
  {
   "cell_type": "code",
   "execution_count": 19,
   "id": "b863b7ee",
   "metadata": {},
   "outputs": [
    {
     "name": "stdout",
     "output_type": "stream",
     "text": [
      "  ESTACION    AñoT  conteo\n",
      "0  ACEVEDO  2012-1       0\n",
      "1  ACEVEDO  2012-2       2\n",
      "2  ACEVEDO  2012-3       1\n",
      "3  ACEVEDO  2012-4       0\n",
      "4  ACEVEDO  2013-1       0\n"
     ]
    }
   ],
   "source": [
    "Datos_total = pd.concat([DatosM, DatosF], ignore_index=True)\n",
    "\n",
    "# 2️⃣ Lista de trimestres desde 2012-1 hasta 2023-4\n",
    "años = range(2012, 2024)\n",
    "trimestres = [1, 2, 3, 4]\n",
    "todos_trimestres = [f\"{año}-{t}\" for año, t in itertools.product(años, trimestres)]\n",
    "\n",
    "# 3️⃣ Lista de estaciones únicas en la base combinada\n",
    "estaciones_total = Datos_total[\"ESTACION\"].unique()\n",
    "\n",
    "# 4️⃣ Crear DataFrame con todas las combinaciones de Estación x AñoT\n",
    "combinaciones_total = pd.MultiIndex.from_product([estaciones_total, todos_trimestres], names=[\"ESTACION\", \"AñoT\"]).to_frame(index=False)\n",
    "\n",
    "# 5️⃣ Hacer conteo de ocurrencias en la base combinada\n",
    "conteo_total = Datos_total.groupby([\"ESTACION\", \"AñoT\"]).size().reset_index(name=\"conteo\")\n",
    "\n",
    "# 6️⃣ Merge con todas las combinaciones, rellenando NaN con 0\n",
    "Datos_total_conteo = combinaciones_total.merge(conteo_total, on=[\"ESTACION\", \"AñoT\"], how=\"left\").fillna(0)\n",
    "\n",
    "# 7️⃣ Asegurarse que 'conteo' sea entero\n",
    "Datos_total_conteo[\"conteo\"] = Datos_total_conteo[\"conteo\"].astype(int)\n",
    "\n",
    "# Ver los primeros registros\n",
    "print(Datos_total_conteo.head())"
   ]
  },
  {
   "cell_type": "code",
   "execution_count": 25,
   "id": "59a5837f",
   "metadata": {},
   "outputs": [
    {
     "name": "stdout",
     "output_type": "stream",
     "text": [
      "DatosM_no_joven\n",
      "  ESTACION    AñoT  conteo\n",
      "0  ACEVEDO  2012-1       0\n",
      "1  ACEVEDO  2012-2       0\n",
      "2  ACEVEDO  2012-3       0\n",
      "3  ACEVEDO  2012-4       0\n",
      "4  ACEVEDO  2013-1       0\n",
      "Datos_total_joven\n",
      "        ESTACION    AñoT  conteo\n",
      "0  12 DE octubre  2012-1       0\n",
      "1  12 DE octubre  2012-2       0\n",
      "2  12 DE octubre  2012-3       0\n",
      "3  12 DE octubre  2012-4       0\n",
      "4  12 DE octubre  2013-1       0\n"
     ]
    }
   ],
   "source": [
    "\n",
    "DatosV = DatosV[DatosV[\"AñoT\"] >= \"2012-1\"]\n",
    "\n",
    "# Lista de trimestres\n",
    "años = range(2012, 2024)\n",
    "trimestres = [1, 2, 3, 4]\n",
    "todos_trimestres = [f\"{año}-{t}\" for año, t in itertools.product(años, trimestres)]\n",
    "\n",
    "def generar_conteo(df, nombre):\n",
    "    \"\"\"Genera DataFrame de conteo por Estación y AñoT incluyendo trimestres vacíos\"\"\"\n",
    "    estaciones = df[\"ESTACION\"].unique()\n",
    "    combinaciones = pd.MultiIndex.from_product([estaciones, todos_trimestres], names=[\"ESTACION\", \"AñoT\"]).to_frame(index=False)\n",
    "    conteo = df.groupby([\"ESTACION\", \"AñoT\"]).size().reset_index(name=\"conteo\")\n",
    "    resultado = combinaciones.merge(conteo, on=[\"ESTACION\", \"AñoT\"], how=\"left\").fillna(0)\n",
    "    resultado[\"conteo\"] = resultado[\"conteo\"].astype(int)\n",
    "    return resultado\n",
    "\n",
    "# -----------------------------\n",
    "# NO JOVENES (EDAD > 28)\n",
    "# -----------------------------\n",
    "Datos_no_joven = DatosV[DatosV[\"EDAD\"] > 28]\n",
    "\n",
    "DatosM_no_joven = generar_conteo(Datos_no_joven[Datos_no_joven[\"GENERO\"]==\"M\"], \"M_no_joven\")\n",
    "DatosF_no_joven = generar_conteo(Datos_no_joven[Datos_no_joven[\"GENERO\"]==\"F\"], \"F_no_joven\")\n",
    "Datos_total_no_joven = generar_conteo(Datos_no_joven, \"Total_no_joven\")\n",
    "\n",
    "# -----------------------------\n",
    "# JOVENES (EDAD <= 28)\n",
    "# -----------------------------\n",
    "Datos_joven = DatosV[DatosV[\"EDAD\"] <= 28]\n",
    "\n",
    "DatosM_joven = generar_conteo(Datos_joven[Datos_joven[\"GENERO\"]==\"M\"], \"M_joven\")\n",
    "DatosF_joven = generar_conteo(Datos_joven[Datos_joven[\"GENERO\"]==\"F\"], \"F_joven\")\n",
    "Datos_total_joven = generar_conteo(Datos_joven, \"Total_joven\")\n",
    "\n",
    "# -----------------------------\n",
    "# Ejemplo: ver primeras filas\n",
    "print(\"DatosM_no_joven\")\n",
    "print(DatosM_no_joven.head())\n",
    "\n",
    "print(\"Datos_total_joven\")\n",
    "print(Datos_total_joven.head())\n"
   ]
  },
  {
   "cell_type": "code",
   "execution_count": null,
   "id": "c69fe630",
   "metadata": {},
   "outputs": [],
   "source": []
  }
 ],
 "metadata": {
  "kernelspec": {
   "display_name": ".venv",
   "language": "python",
   "name": "python3"
  },
  "language_info": {
   "codemirror_mode": {
    "name": "ipython",
    "version": 3
   },
   "file_extension": ".py",
   "mimetype": "text/x-python",
   "name": "python",
   "nbconvert_exporter": "python",
   "pygments_lexer": "ipython3",
   "version": "3.11.1"
  }
 },
 "nbformat": 4,
 "nbformat_minor": 5
}
